{
 "cells": [
  {
   "cell_type": "code",
   "execution_count": 6,
   "id": "3961cc04",
   "metadata": {},
   "outputs": [],
   "source": [
    "import tensorflow as tf \n",
    "from tensorflow.keras import layers,models\n",
    "import matplotlib.pyplot as plt \n",
    "import numpy as np \n",
    "from sklearn.metrics import classification_report, confusion_matrix \n",
    "import seaborn as sns\n",
    "import pandas as pd \n",
    "import os\n",
    "import cv2"
   ]
  },
  {
   "cell_type": "code",
   "execution_count": 7,
   "id": "b0c223f1",
   "metadata": {},
   "outputs": [],
   "source": [
    "#path to dataset\n",
    "train_dir = \"chest-xray/train\"\n",
    "val_dir = \"chest-xray/val\"\n",
    "test_dir = \"chest-xray/test\"\n"
   ]
  },
  {
   "cell_type": "code",
   "execution_count": null,
   "id": "defce8b8",
   "metadata": {},
   "outputs": [],
   "source": [
    "labels = ['NORMAL','PNEUMONIA']\n",
    "img_size = 150      #target size for resizing\n",
    "def get_training_data(data_dir):\n",
    "    data = []\n",
    "    for label in labels:\n",
    "        path = os.path.join(data_dir,label)  #path to normal or pneumonia folder\n",
    "        class_num = labels.index(label)     # 0 for normal and 1 for pneumonia\n",
    "        for img in os.listdir(path):        #loop over each image in that folder\n",
    "            try:\n",
    "                img_arr=cv2.imread(os.path.join(path,img),cv2.IMREAD_GRAYSCALE)  #loading image in greyscale\n",
    "                resized_arr = cv2.resize(img_arr,(img_size,img_size)) #resizing image into 150 x 150\n",
    "\n",
    "                data.append([resized_arr, class_num]) #adding image and label\n",
    "            except Exception as e:\n",
    "                print(e)\n",
    "    return np.array(data)\n"
   ]
  },
  {
   "cell_type": "code",
   "execution_count": null,
   "id": "6e865ceb",
   "metadata": {},
   "outputs": [],
   "source": []
  }
 ],
 "metadata": {
  "kernelspec": {
   "display_name": "Python 3",
   "language": "python",
   "name": "python3"
  },
  "language_info": {
   "codemirror_mode": {
    "name": "ipython",
    "version": 3
   },
   "file_extension": ".py",
   "mimetype": "text/x-python",
   "name": "python",
   "nbconvert_exporter": "python",
   "pygments_lexer": "ipython3",
   "version": "3.11.7"
  }
 },
 "nbformat": 4,
 "nbformat_minor": 5
}
