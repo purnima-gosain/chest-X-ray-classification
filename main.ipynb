{
 "cells": [
  {
   "cell_type": "code",
   "execution_count": 1,
   "id": "3961cc04",
   "metadata": {},
   "outputs": [],
   "source": [
    "import tensorflow as tf \n",
    "from tensorflow.keras import layers,models\n",
    "import matplotlib.pyplot as plt \n",
    "import numpy as np \n",
    "from sklearn.metrics import classification_report, confusion_matrix \n",
    "import seaborn as sns\n",
    "import pandas as pd "
   ]
  },
  {
   "cell_type": "code",
   "execution_count": 2,
   "id": "b0c223f1",
   "metadata": {},
   "outputs": [],
   "source": [
    "#path to dataset\n",
    "train_dir = \"chest-xray/train\"\n",
    "val_dir = \"chest-xray/val\"\n",
    "test_dir = \"chest-xray/test\"\n"
   ]
  },
  {
   "cell_type": "code",
   "execution_count": null,
   "id": "defce8b8",
   "metadata": {},
   "outputs": [],
   "source": []
  }
 ],
 "metadata": {
  "kernelspec": {
   "display_name": "Python 3",
   "language": "python",
   "name": "python3"
  },
  "language_info": {
   "codemirror_mode": {
    "name": "ipython",
    "version": 3
   },
   "file_extension": ".py",
   "mimetype": "text/x-python",
   "name": "python",
   "nbconvert_exporter": "python",
   "pygments_lexer": "ipython3",
   "version": "3.11.7"
  }
 },
 "nbformat": 4,
 "nbformat_minor": 5
}
